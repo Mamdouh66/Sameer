{
 "cells": [
  {
   "cell_type": "markdown",
   "metadata": {},
   "source": [
    "We will consider the following five simple baseline models to provide foundational insights. These will serve as the baseline performance metrics that any subsequent machine learning models aim to beat.\n",
    "\n",
    "1. **Global Mean Rating**:\n",
    "This model predicts the global mean rating for all user-item pairs, serving as the most basic form of recommendation.\n",
    "\n",
    "2. **User Mean Rating**:\n",
    "For this model, the mean rating of each user is calculated and used to predict ratings for all items the user has not yet interacted with.\n",
    "\n",
    "3. **Item Mean Rating**:\n",
    "In contrast to the User Mean Rating, this model focuses on the mean rating of each item and uses it to predict ratings for all users.\n",
    "\n",
    "4. **User-Item Mean Rating**:\n",
    "This model takes a more nuanced approach by predicting a rating for a user-item pair as the average of the user's mean rating and the item's mean rating. The formula is:\n",
    "$$prediction = \\frac{User Mean Rating + Item Mean Rating}{2}$$\n",
    "\n",
    "5. **Weighted Mean Ratings**:\n",
    "This model employs a weighted average of the user mean and item mean ratings. The weight ( w ) can be adjusted based on domain understanding. The formula is :\n",
    "$$prediction = w \\times User Mean Rating + (1 - w) \\times Item Mean Rating, \\space where \\space 0 \\leq w \\leq 1$$"
   ]
  },
  {
   "cell_type": "code",
   "execution_count": 1,
   "metadata": {},
   "outputs": [],
   "source": [
    "import numpy as np\n",
    "import pandas as pd\n",
    "import matplotlib.pyplot as plt\n",
    "import seaborn as sns\n",
    "\n",
    "from math import sqrt\n",
    "\n",
    "from sklearn.model_selection import train_test_split\n",
    "from sklearn.metrics import mean_squared_error\n",
    "from sklearn.preprocessing import MinMaxScaler\n",
    "from sklearn.feature_extraction.text import CountVectorizer\n",
    "from sklearn.metrics.pairwise import cosine_similarity"
   ]
  },
  {
   "cell_type": "code",
   "execution_count": null,
   "metadata": {},
   "outputs": [],
   "source": []
  }
 ],
 "metadata": {
  "kernelspec": {
   "display_name": "movies",
   "language": "python",
   "name": "python3"
  },
  "language_info": {
   "codemirror_mode": {
    "name": "ipython",
    "version": 3
   },
   "file_extension": ".py",
   "mimetype": "text/x-python",
   "name": "python",
   "nbconvert_exporter": "python",
   "pygments_lexer": "ipython3",
   "version": "3.11.4"
  }
 },
 "nbformat": 4,
 "nbformat_minor": 2
}
