{
 "cells": [
  {
   "cell_type": "markdown",
   "metadata": {},
   "source": [
    "We will consider the following five simple baseline models to provide foundational insights. These will serve as the baseline performance metrics that any subsequent machine learning models aim to beat.\n",
    "\n",
    "1. **Global Mean Rating**:\n",
    "This model predicts the global mean rating for all user-item pairs, serving as the most basic form of recommendation.\n",
    "\n",
    "2. **User Mean Rating**:\n",
    "For this model, the mean rating of each user is calculated and used to predict ratings for all items the user has not yet interacted with.\n",
    "\n",
    "3. **Item Mean Rating**:\n",
    "In contrast to the User Mean Rating, this model focuses on the mean rating of each item and uses it to predict ratings for all users.\n",
    "\n",
    "4. **User-Item Mean Rating**:\n",
    "This model takes a more nuanced approach by predicting a rating for a user-item pair as the average of the user's mean rating and the item's mean rating. The formula is:\n",
    "$$prediction = \\frac{User Mean Rating + Item Mean Rating}{2}$$\n",
    "\n",
    "5. **Weighted Mean Ratings**:\n",
    "This model employs a weighted average of the user mean and item mean ratings. The weight ( w ) can be adjusted based on domain understanding. The formula is :\n",
    "$$prediction = w \\times User Mean Rating + (1 - w) \\times Item Mean Rating, \\space where \\space 0 \\leq w \\leq 1$$"
   ]
  },
  {
   "cell_type": "code",
   "execution_count": 1,
   "metadata": {},
   "outputs": [],
   "source": [
    "import numpy as np\n",
    "import pandas as pd\n",
    "import matplotlib.pyplot as plt\n",
    "import seaborn as sns\n",
    "\n",
    "from sklearn.model_selection import train_test_split\n",
    "from sklearn.preprocessing import MinMaxScaler"
   ]
  },
  {
   "cell_type": "code",
   "execution_count": 2,
   "metadata": {},
   "outputs": [],
   "source": [
    "movies_df = pd.read_csv(\"../data/movies_metadata_after_eda.csv\")\n",
    "ratings_df = pd.read_csv(\"../data/ratings_small.csv\")"
   ]
  },
  {
   "cell_type": "code",
   "execution_count": 3,
   "metadata": {},
   "outputs": [],
   "source": [
    "train_df, test_df = train_test_split(ratings_df, test_size=0.3, random_state=42)"
   ]
  },
  {
   "cell_type": "code",
   "execution_count": 4,
   "metadata": {},
   "outputs": [
    {
     "data": {
      "text/html": [
       "<div>\n",
       "<style scoped>\n",
       "    .dataframe tbody tr th:only-of-type {\n",
       "        vertical-align: middle;\n",
       "    }\n",
       "\n",
       "    .dataframe tbody tr th {\n",
       "        vertical-align: top;\n",
       "    }\n",
       "\n",
       "    .dataframe thead th {\n",
       "        text-align: right;\n",
       "    }\n",
       "</style>\n",
       "<table border=\"1\" class=\"dataframe\">\n",
       "  <thead>\n",
       "    <tr style=\"text-align: right;\">\n",
       "      <th></th>\n",
       "      <th>userId</th>\n",
       "      <th>movieId</th>\n",
       "      <th>rating</th>\n",
       "      <th>timestamp</th>\n",
       "      <th>global_mean_rating</th>\n",
       "      <th>user_mean_rating</th>\n",
       "      <th>item_mean_rating</th>\n",
       "      <th>user_item_mean_rating</th>\n",
       "      <th>weighted_mean_rating</th>\n",
       "    </tr>\n",
       "  </thead>\n",
       "  <tbody>\n",
       "    <tr>\n",
       "      <th>0</th>\n",
       "      <td>128</td>\n",
       "      <td>1028</td>\n",
       "      <td>5.0</td>\n",
       "      <td>1049690908</td>\n",
       "      <td>3.540256</td>\n",
       "      <td>3.844444</td>\n",
       "      <td>3.836364</td>\n",
       "      <td>3.840404</td>\n",
       "      <td>3.841212</td>\n",
       "    </tr>\n",
       "    <tr>\n",
       "      <th>1</th>\n",
       "      <td>665</td>\n",
       "      <td>4736</td>\n",
       "      <td>1.0</td>\n",
       "      <td>1010197684</td>\n",
       "      <td>3.540256</td>\n",
       "      <td>3.294304</td>\n",
       "      <td>3.540256</td>\n",
       "      <td>3.417280</td>\n",
       "      <td>3.392685</td>\n",
       "    </tr>\n",
       "    <tr>\n",
       "      <th>2</th>\n",
       "      <td>120</td>\n",
       "      <td>4002</td>\n",
       "      <td>3.0</td>\n",
       "      <td>1167420604</td>\n",
       "      <td>3.540256</td>\n",
       "      <td>3.573684</td>\n",
       "      <td>3.318182</td>\n",
       "      <td>3.445933</td>\n",
       "      <td>3.471483</td>\n",
       "    </tr>\n",
       "    <tr>\n",
       "      <th>3</th>\n",
       "      <td>257</td>\n",
       "      <td>1274</td>\n",
       "      <td>4.0</td>\n",
       "      <td>1348544094</td>\n",
       "      <td>3.540256</td>\n",
       "      <td>3.801370</td>\n",
       "      <td>3.791667</td>\n",
       "      <td>3.796518</td>\n",
       "      <td>3.797489</td>\n",
       "    </tr>\n",
       "    <tr>\n",
       "      <th>4</th>\n",
       "      <td>468</td>\n",
       "      <td>6440</td>\n",
       "      <td>4.0</td>\n",
       "      <td>1296191715</td>\n",
       "      <td>3.540256</td>\n",
       "      <td>2.946196</td>\n",
       "      <td>3.900000</td>\n",
       "      <td>3.423098</td>\n",
       "      <td>3.327717</td>\n",
       "    </tr>\n",
       "  </tbody>\n",
       "</table>\n",
       "</div>"
      ],
      "text/plain": [
       "   userId  movieId  rating   timestamp  global_mean_rating  user_mean_rating  \\\n",
       "0     128     1028     5.0  1049690908            3.540256          3.844444   \n",
       "1     665     4736     1.0  1010197684            3.540256          3.294304   \n",
       "2     120     4002     3.0  1167420604            3.540256          3.573684   \n",
       "3     257     1274     4.0  1348544094            3.540256          3.801370   \n",
       "4     468     6440     4.0  1296191715            3.540256          2.946196   \n",
       "\n",
       "   item_mean_rating  user_item_mean_rating  weighted_mean_rating  \n",
       "0          3.836364               3.840404              3.841212  \n",
       "1          3.540256               3.417280              3.392685  \n",
       "2          3.318182               3.445933              3.471483  \n",
       "3          3.791667               3.796518              3.797489  \n",
       "4          3.900000               3.423098              3.327717  "
      ]
     },
     "execution_count": 4,
     "metadata": {},
     "output_type": "execute_result"
    }
   ],
   "source": [
    "from Sameer.services.ml_service.ml_utils import (\n",
    "    calculate_user_item_mean_rating,\n",
    "    calculate_weighted_mean_ratings,\n",
    "    calculate_rmse,\n",
    ")\n",
    "\n",
    "test_df = calculate_user_item_mean_rating(train_df, test_df)\n",
    "test_df, best_w, best_rmse = calculate_weighted_mean_ratings(test_df)\n",
    "test_df.head()"
   ]
  },
  {
   "cell_type": "code",
   "execution_count": 5,
   "metadata": {},
   "outputs": [],
   "source": [
    "test_df[\"constant_rating\"] = 2.5\n",
    "\n",
    "user_stats = train_df.groupby(\"userId\")[\"rating\"].agg([\"mean\", \"count\"]).reset_index()\n",
    "\n",
    "DAMPING_FACTOR = 0.2\n",
    "\n",
    "test_df = test_df.merge(user_stats, on=\"userId\", how=\"left\")\n",
    "test_df[\"damped_user_mean_rating\"] = ((1 - DAMPING_FACTOR) * test_df[\"mean\"]) + (\n",
    "    DAMPING_FACTOR * test_df[\"global_mean_rating\"][0]\n",
    ")\n",
    "\n",
    "rmse_damped_user_mean = calculate_rmse(\n",
    "    test_df[\"rating\"], test_df[\"damped_user_mean_rating\"]\n",
    ")"
   ]
  },
  {
   "cell_type": "code",
   "execution_count": 6,
   "metadata": {},
   "outputs": [],
   "source": [
    "rmse_global_mean = calculate_rmse(test_df[\"rating\"], test_df[\"global_mean_rating\"])\n",
    "rmse_user_mean = calculate_rmse(test_df[\"rating\"], test_df[\"user_mean_rating\"])\n",
    "rmse_item_mean = calculate_rmse(test_df[\"rating\"], test_df[\"item_mean_rating\"])\n",
    "rmse_user_item_mean = calculate_rmse(\n",
    "    test_df[\"rating\"], test_df[\"user_item_mean_rating\"]\n",
    ")\n",
    "rmse_weighted_mean = calculate_rmse(test_df[\"rating\"], test_df[\"weighted_mean_rating\"])\n",
    "rmse_constant = calculate_rmse(test_df[\"rating\"], test_df[\"constant_rating\"])\n",
    "rmse_damped_user_mean = calculate_rmse(\n",
    "    test_df[\"rating\"], test_df[\"damped_user_mean_rating\"]\n",
    ")"
   ]
  },
  {
   "cell_type": "code",
   "execution_count": 7,
   "metadata": {},
   "outputs": [
    {
     "name": "stdout",
     "output_type": "stream",
     "text": [
      "RMSE for Global Mean Rating Model: 1.06\n",
      "RMSE for User Mean Rating Model: 0.96\n",
      "RMSE for Item Mean Rating Model: 1.00\n",
      "RMSE for User-Item Mean Rating Model: 0.92\n",
      "RMSE for Weighted Mean Rating Model: 0.92, with setting the best weight is 0.60\n",
      "RMSE for Constant Model: 1.49\n",
      "RMSE for Damped User-Mean Rating Model: 0.96\n"
     ]
    }
   ],
   "source": [
    "print(f\"RMSE for Global Mean Rating Model: {rmse_global_mean:.2f}\")\n",
    "print(f\"RMSE for User Mean Rating Model: {rmse_user_mean:.2f}\")\n",
    "print(f\"RMSE for Item Mean Rating Model: {rmse_item_mean:.2f}\")\n",
    "print(f\"RMSE for User-Item Mean Rating Model: {rmse_user_item_mean:.2f}\")\n",
    "print(\n",
    "    f\"RMSE for Weighted Mean Rating Model: {best_rmse:.2f}, with setting the best weight is {best_w:.2f}\"\n",
    ")\n",
    "print(f\"RMSE for Constant Model: {rmse_constant:.2f}\")\n",
    "print(f\"RMSE for Damped User-Mean Rating Model: {rmse_damped_user_mean:.2f}\")"
   ]
  },
  {
   "cell_type": "markdown",
   "metadata": {},
   "source": [
    "In building a movie recommendation system, we start with simple models due to it's importance in understanding how well we're doing. We found out that using both the average ratings from users and movies gets the best results, with a score (RMSE) of 0.92. This score shows how accurate our predictions are – the lower, the better. Models that only look at users or movies are okay, but not as good. The worst model is the one that always guesses the same rating, with a score of 1.49. These simple models help us know what to beat; any new, fancier model should score lower than 0.92 to be better.\n",
    "\n",
    "We also look at more complex models because the simple ones don't consider what each user likes. Machine learning models can give more personalized suggestions, which is better for users."
   ]
  },
  {
   "cell_type": "code",
   "execution_count": 8,
   "metadata": {},
   "outputs": [],
   "source": [
    "from surprise import (\n",
    "    Reader,\n",
    "    Dataset,\n",
    "    SVD,\n",
    "    KNNWithZScore,\n",
    "    NMF,\n",
    "    accuracy,\n",
    "    CoClustering,\n",
    ")\n",
    "from surprise.model_selection import cross_validate\n",
    "from surprise.model_selection import GridSearchCV"
   ]
  },
  {
   "cell_type": "code",
   "execution_count": 9,
   "metadata": {},
   "outputs": [],
   "source": [
    "reader = Reader(rating_scale=(1, 5))\n",
    "\n",
    "train_data = Dataset.load_from_df(train_df[[\"userId\", \"movieId\", \"rating\"]], reader)\n",
    "test_data = Dataset.load_from_df(test_df[[\"userId\", \"movieId\", \"rating\"]], reader)\n",
    "\n",
    "trainset = train_data.build_full_trainset()\n",
    "testset = test_data.build_full_trainset().build_testset()\n",
    "\n",
    "algorithms = [SVD]\n",
    "# algorithms = [SVD, KNNWithZScore, NMF, CoClustering]\n",
    "\n",
    "param_grid = {\n",
    "    SVD: {\n",
    "        \"n_factors\": [125, 150, 175],\n",
    "        \"n_epochs\": [25, 30, 35],\n",
    "        \"lr_all\": [0.008, 0.01, 0.012],\n",
    "        \"reg_all\": [0.15, 0.2, 0.25],\n",
    "    },\n",
    "    # KNNWithZScore: {\n",
    "    #     \"k\": [35, 40, 45],\n",
    "    #     \"min_k\": [1, 3, 5, 7],\n",
    "    #     \"sim_options\": {\n",
    "    #         \"name\": [\"msd\", \"cosine\", \"pearson\"],\n",
    "    #         \"user_based\": [True, False],\n",
    "    #     },\n",
    "    # },\n",
    "    # NMF: {\n",
    "    #     \"n_factors\": [50, 100, 150],\n",
    "    #     \"n_epochs\": [20, 25, 30],\n",
    "    #     \"reg_pu\": [0.06, 0.08, 0.1],\n",
    "    #     \"reg_qi\": [0.06, 0.08, 0.1],\n",
    "    # },\n",
    "    # CoClustering: {\n",
    "    #     \"n_cltr_u\": [3, 5, 7],\n",
    "    #     \"n_cltr_i\": [3, 5, 7],\n",
    "    #     \"n_epochs\": [20, 30, 40],\n",
    "    # },\n",
    "}"
   ]
  },
  {
   "cell_type": "code",
   "execution_count": 10,
   "metadata": {},
   "outputs": [
    {
     "data": {
      "image/png": "[encoded data removed]",
      "text/plain": [
       "<Figure size 1000x600 with 1 Axes>"
      ]
     },
     "metadata": {},
     "output_type": "display_data"
    },
    {
     "name": "stdout",
     "output_type": "stream",
     "text": [
      "Best Model for SVD:\n",
      " <surprise.prediction_algorithms.matrix_factorization.SVD object at 0x28ed8f8d0>\n",
      "Best Parameters for SVD:\n",
      " {'n_factors': 175, 'n_epochs': 35, 'lr_all': 0.012, 'reg_all': 0.15}\n",
      "Best RMSE score for SVD:\n",
      " 0.8995326102327814\n"
     ]
    }
   ],
   "source": [
    "best_models = {}\n",
    "best_params = {}\n",
    "best_rmse_scores = {}\n",
    "\n",
    "for algo in algorithms:\n",
    "    gs = GridSearchCV(algo, param_grid[algo], measures=[\"rmse\"], cv=3, n_jobs=-1)\n",
    "    gs.fit(train_data)\n",
    "\n",
    "    best_models[algo.__name__] = gs.best_estimator[\"rmse\"]\n",
    "    best_params[algo.__name__] = gs.best_params[\"rmse\"]\n",
    "    best_rmse_scores[algo.__name__] = gs.best_score[\"rmse\"]\n",
    "\n",
    "plt.figure(figsize=(10, 6))\n",
    "plt.bar(best_rmse_scores.keys(), best_rmse_scores.values(), color=\"blue\")\n",
    "plt.xlabel(\"Algorithms\")\n",
    "plt.ylabel(\"Best RMSE Score\")\n",
    "plt.title(\"Best RMSE Scores by Algorithm\")\n",
    "plt.show()\n",
    "\n",
    "for algo_name, model in best_models.items():\n",
    "    print(f\"Best Model for {algo_name}:\\n\", model)\n",
    "    print(f\"Best Parameters for {algo_name}:\\n\", best_params[algo_name])\n",
    "    print(f\"Best RMSE score for {algo_name}:\\n\", best_rmse_scores[algo_name])"
   ]
  },
  {
   "cell_type": "code",
   "execution_count": 11,
   "metadata": {},
   "outputs": [
    {
     "name": "stdout",
     "output_type": "stream",
     "text": [
      "Best Algorithm: SVD\n",
      "Best Parameters: {'n_factors': 175, 'n_epochs': 35, 'lr_all': 0.012, 'reg_all': 0.15}\n",
      "Best RMSE score: 0.8995326102327814\n"
     ]
    }
   ],
   "source": [
    "best_algo = min(best_rmse_scores, key=best_rmse_scores.get)\n",
    "\n",
    "print(f\"Best Algorithm: {best_algo}\")\n",
    "print(f\"Best Parameters: {best_params[best_algo]}\")\n",
    "print(f\"Best RMSE score: {best_rmse_scores[best_algo]}\")"
   ]
  },
  {
   "cell_type": "markdown",
   "metadata": {},
   "source": [
    "## Conclusion\n",
    "\n",
    "SVD: Achieved an RMSE score of `0.897`\n",
    "KNNWithZScore: Registered an RMSE score of `0.929`\n",
    "NMF: Posted an RMSE score of `1.002`\n",
    "\n",
    "SVD outperformed the rest, so we will be going with it with the following parameters: `Best Parameters: {'n_factors': 150, 'n_epochs': 35, 'lr_all': 0.01, 'reg_all': 0.15}`"
   ]
  },
  {
   "cell_type": "code",
   "execution_count": 12,
   "metadata": {},
   "outputs": [
    {
     "name": "stdout",
     "output_type": "stream",
     "text": [
      "RMSE: 0.8849\n",
      "MAE:  0.6817\n",
      "FCP:  0.6610\n",
      "Evaluation Metrics:\n",
      "RMSE score: 0.8849194369663155\n",
      "MAE score: 0.6816590342608979\n",
      "FCP score: 0.660968163695536\n"
     ]
    }
   ],
   "source": [
    "best_algo_name = min(best_rmse_scores, key=best_rmse_scores.get)\n",
    "best_algo_model = best_models[best_algo_name]\n",
    "\n",
    "best_algo_model.fit(trainset)\n",
    "\n",
    "predictions = best_algo_model.test(testset)\n",
    "\n",
    "rmse_score = accuracy.rmse(predictions)\n",
    "\n",
    "mae_score = accuracy.mae(predictions)\n",
    "fcp_score = accuracy.fcp(predictions)\n",
    "\n",
    "print(f\"Evaluation Metrics:\")\n",
    "print(f\"RMSE score: {rmse_score}\")\n",
    "print(f\"MAE score: {mae_score}\")\n",
    "print(f\"FCP score: {fcp_score}\")\n",
    "\n",
    "predictions_df = pd.DataFrame(predictions)\n",
    "predictions_df = predictions_df.rename(\n",
    "    columns={\"uid\": \"userId\", \"iid\": \"movieId\", \"r_ui\": \"actual\", \"est\": \"predicted\"}\n",
    ")\n",
    "predictions_df[\"error\"] = np.abs(predictions_df[\"actual\"] - predictions_df[\"predicted\"])\n",
    "\n",
    "predictions_df.to_csv(\"./dump/predictions.csv\", index=False)"
   ]
  },
  {
   "cell_type": "code",
   "execution_count": 13,
   "metadata": {},
   "outputs": [],
   "source": [
    "import pickle\n",
    "\n",
    "with open(f\"./pickels/best_svd_model.pkl\", \"wb\") as f:\n",
    "    pickle.dump(best_algo_model, f)"
   ]
  },
  {
   "cell_type": "markdown",
   "metadata": {},
   "source": [
    "The machine learning model achieved an RMSE of 0.897 on training data and 0.8848 on test data, indicating robustness and good generalization. It outperformed baseline models (User-Item and Weighted Mean Rating Models with an RMSE of 0.92), demonstrating the effectiveness of a complex algorithm in the recommendation system. The model is suitable for real-world deployment due to its strong performance on unseen data."
   ]
  },
  {
   "cell_type": "markdown",
   "metadata": {},
   "source": [
    "Now for `Weighted Rating` which calcuates based on both the popularity and user ratings.\n",
    "\n",
    "By blending these two factors, we aim to suggest movies that are both high-quality and widely liked.\n",
    "\n",
    "Importantly, this method can also be combined with other recommendation techniques to create a more advanced, hybrid system. In this section, we calculate a weighted rating for each movie in the dataset. The steps are as follows:\n",
    "\n",
    "- Data Filtering: We start by selecting movies that have non-null values for both vote_average and vote_count.\n",
    "\n",
    "- Rating Metrics: We define the following variables to use in the formula:\n",
    "    - ( R ): Average rating for the movie\n",
    "    - ( v ): Number of votes for the movie\n",
    "    - ( m ): Minimum votes required (90th percentile)\n",
    "    - ( C ): The mean vote across the entire dataset\n",
    "\n",
    "- Weighted Rating Formula: We use the IMDB formula to calculate the weighted rating for each movie.\n",
    "$$Weighted Rating = \\frac{R\\times v + C \\times m}{v+m}$$\n",
    "\n",
    "- Feature Scaling: We then normalize the popularity and weighted_average columns using MinMax scaling.\n",
    "\n",
    "A score is calculated for each movie as a weighted sum of the normalized weighted_average and popularity. Specifically, it's 40% weighted_average and 60% popularity."
   ]
  },
  {
   "cell_type": "code",
   "execution_count": 14,
   "metadata": {},
   "outputs": [],
   "source": [
    "R = movies_df[\"vote_average\"]\n",
    "v = movies_df[\"vote_count\"]\n",
    "m = movies_df[\"vote_count\"].quantile(0.9)\n",
    "C = movies_df[\"vote_average\"].mean()\n",
    "movies_df[\"weighted_average\"] = (R * v + C * m) / (v + m)"
   ]
  },
  {
   "cell_type": "code",
   "execution_count": 15,
   "metadata": {},
   "outputs": [
    {
     "data": {
      "text/html": [
       "<div>\n",
       "<style scoped>\n",
       "    .dataframe tbody tr th:only-of-type {\n",
       "        vertical-align: middle;\n",
       "    }\n",
       "\n",
       "    .dataframe tbody tr th {\n",
       "        vertical-align: top;\n",
       "    }\n",
       "\n",
       "    .dataframe thead th {\n",
       "        text-align: right;\n",
       "    }\n",
       "</style>\n",
       "<table border=\"1\" class=\"dataframe\">\n",
       "  <thead>\n",
       "    <tr style=\"text-align: right;\">\n",
       "      <th></th>\n",
       "      <th>popularity</th>\n",
       "      <th>weighted_average</th>\n",
       "      <th>score</th>\n",
       "    </tr>\n",
       "    <tr>\n",
       "      <th>id</th>\n",
       "      <th></th>\n",
       "      <th></th>\n",
       "      <th></th>\n",
       "    </tr>\n",
       "  </thead>\n",
       "  <tbody>\n",
       "    <tr>\n",
       "      <th>211672</th>\n",
       "      <td>1.000000</td>\n",
       "      <td>0.574825</td>\n",
       "      <td>0.829930</td>\n",
       "    </tr>\n",
       "    <tr>\n",
       "      <th>297762</th>\n",
       "      <td>0.537613</td>\n",
       "      <td>0.734315</td>\n",
       "      <td>0.616294</td>\n",
       "    </tr>\n",
       "    <tr>\n",
       "      <th>321612</th>\n",
       "      <td>0.524675</td>\n",
       "      <td>0.655367</td>\n",
       "      <td>0.576952</td>\n",
       "    </tr>\n",
       "    <tr>\n",
       "      <th>177572</th>\n",
       "      <td>0.390602</td>\n",
       "      <td>0.856364</td>\n",
       "      <td>0.576907</td>\n",
       "    </tr>\n",
       "    <tr>\n",
       "      <th>680</th>\n",
       "      <td>0.257449</td>\n",
       "      <td>0.960073</td>\n",
       "      <td>0.538499</td>\n",
       "    </tr>\n",
       "    <tr>\n",
       "      <th>339403</th>\n",
       "      <td>0.416507</td>\n",
       "      <td>0.721434</td>\n",
       "      <td>0.538478</td>\n",
       "    </tr>\n",
       "    <tr>\n",
       "      <th>283995</th>\n",
       "      <td>0.338511</td>\n",
       "      <td>0.813503</td>\n",
       "      <td>0.528508</td>\n",
       "    </tr>\n",
       "    <tr>\n",
       "      <th>155</th>\n",
       "      <td>0.224968</td>\n",
       "      <td>0.962900</td>\n",
       "      <td>0.520141</td>\n",
       "    </tr>\n",
       "    <tr>\n",
       "      <th>210577</th>\n",
       "      <td>0.282748</td>\n",
       "      <td>0.875895</td>\n",
       "      <td>0.520007</td>\n",
       "    </tr>\n",
       "    <tr>\n",
       "      <th>293660</th>\n",
       "      <td>0.343132</td>\n",
       "      <td>0.780225</td>\n",
       "      <td>0.517969</td>\n",
       "    </tr>\n",
       "  </tbody>\n",
       "</table>\n",
       "</div>"
      ],
      "text/plain": [
       "        popularity  weighted_average     score\n",
       "id                                            \n",
       "211672    1.000000          0.574825  0.829930\n",
       "297762    0.537613          0.734315  0.616294\n",
       "321612    0.524675          0.655367  0.576952\n",
       "177572    0.390602          0.856364  0.576907\n",
       "680       0.257449          0.960073  0.538499\n",
       "339403    0.416507          0.721434  0.538478\n",
       "283995    0.338511          0.813503  0.528508\n",
       "155       0.224968          0.962900  0.520141\n",
       "210577    0.282748          0.875895  0.520007\n",
       "293660    0.343132          0.780225  0.517969"
      ]
     },
     "execution_count": 15,
     "metadata": {},
     "output_type": "execute_result"
    }
   ],
   "source": [
    "scaler = MinMaxScaler()\n",
    "scaled = scaler.fit_transform(movies_df[[\"popularity\", \"weighted_average\"]])\n",
    "\n",
    "weighted_df = pd.DataFrame(scaled, columns=[\"popularity\", \"weighted_average\"])\n",
    "weighted_df.index = movies_df[\"id\"]\n",
    "\n",
    "weighted_df[\"score\"] = (\n",
    "    weighted_df[\"weighted_average\"] * 0.4 + weighted_df[\"popularity\"] * 0.6\n",
    ")\n",
    "\n",
    "weighted_df_sorted = weighted_df.sort_values(by=\"score\", ascending=False)\n",
    "weighted_df_sorted.head(10)"
   ]
  },
  {
   "cell_type": "markdown",
   "metadata": {},
   "source": [
    "Now for content-based filtering"
   ]
  },
  {
   "cell_type": "markdown",
   "metadata": {},
   "source": [
    "To find movies that closely match a user's preferred film, our recommendation model employs Cosine Similarity, a type of content-based filtering approach. This method calculates similarity scores for each pair of movies in our database by considering various attributes such as keywords, genre, cast, and director. These attributes, collectively termed as \"content,\" help the model to quantify how similar two movies are. If the attributes closely match, the movies are considered similar. The model then sorts these calculated scores and recommends the top 10 movies most similar to the user's chosen film. The underlying idea is that if a user enjoys a particular movie, they are likely to appreciate similar ones as well."
   ]
  },
  {
   "cell_type": "code",
   "execution_count": 16,
   "metadata": {},
   "outputs": [
    {
     "name": "stderr",
     "output_type": "stream",
     "text": [
      "/var/folders/4v/n05vgwdj65b8dkvc11yd9bzr0000gn/T/ipykernel_3139/1889371782.py:1: FutureWarning: A value is trying to be set on a copy of a DataFrame or Series through chained assignment using an inplace method.\n",
      "The behavior will change in pandas 3.0. This inplace method will never work because the intermediate object on which we are setting values always behaves as a copy.\n",
      "\n",
      "For example, when doing 'df[col].method(value, inplace=True)', try using 'df.method({col: value}, inplace=True)' or df[col] = df[col].method(value) instead, to perform the operation inplace on the original object.\n",
      "\n",
      "\n",
      "  movies_df[\"bag_of_words\"].fillna(\"-\", inplace=True)\n",
      "/var/folders/4v/n05vgwdj65b8dkvc11yd9bzr0000gn/T/ipykernel_3139/1889371782.py:2: FutureWarning: A value is trying to be set on a copy of a DataFrame or Series through chained assignment using an inplace method.\n",
      "The behavior will change in pandas 3.0. This inplace method will never work because the intermediate object on which we are setting values always behaves as a copy.\n",
      "\n",
      "For example, when doing 'df[col].method(value, inplace=True)', try using 'df.method({col: value}, inplace=True)' or df[col] = df[col].method(value) instead, to perform the operation inplace on the original object.\n",
      "\n",
      "\n",
      "  movies_df[\"director\"].fillna(\"-\", inplace=True)\n"
     ]
    }
   ],
   "source": [
    "movies_df[\"bag_of_words\"].fillna(\"-\", inplace=True)\n",
    "movies_df[\"director\"].fillna(\"-\", inplace=True)"
   ]
  },
  {
   "cell_type": "code",
   "execution_count": 17,
   "metadata": {},
   "outputs": [],
   "source": [
    "from sklearn.feature_extraction.text import CountVectorizer\n",
    "from sklearn.metrics.pairwise import cosine_similarity\n",
    "\n",
    "count = CountVectorizer(stop_words=\"english\")\n",
    "count_matrix = count.fit_transform(movies_df[\"bag_of_words\"])"
   ]
  },
  {
   "cell_type": "code",
   "execution_count": 18,
   "metadata": {},
   "outputs": [],
   "source": [
    "sim_mat = cosine_similarity(count_matrix, count_matrix)"
   ]
  },
  {
   "cell_type": "code",
   "execution_count": 19,
   "metadata": {},
   "outputs": [],
   "source": [
    "movies_df = movies_df.reset_index()\n",
    "indices = pd.Series(movies_df.index, index=movies_df[\"title\"])"
   ]
  },
  {
   "cell_type": "code",
   "execution_count": 20,
   "metadata": {},
   "outputs": [],
   "source": [
    "def get_recommendations(title, cosine_sim):\n",
    "    # TODO: add fuzzy search to match the title\n",
    "    idx = indices[title]\n",
    "    sim_scores = list(enumerate(cosine_sim[idx]))\n",
    "    sim_scores = sorted(sim_scores, key=lambda x: x[1], reverse=True)\n",
    "    sim_scores = sim_scores[1:11]\n",
    "    movie_indices = [i[0] for i in sim_scores]\n",
    "    return movies_df[\"title\"].iloc[movie_indices]"
   ]
  },
  {
   "cell_type": "code",
   "execution_count": 21,
   "metadata": {},
   "outputs": [
    {
     "data": {
      "text/plain": [
       "12535      The Dark Knight\n",
       "10164        Batman Begins\n",
       "9265                Shiner\n",
       "9828       Amongst Friends\n",
       "7727              Mitchell\n",
       "516      Romeo Is Bleeding\n",
       "11405         The Prestige\n",
       "24004            Quicksand\n",
       "24945             Deadfall\n",
       "40973                 Sara\n",
       "Name: title, dtype: object"
      ]
     },
     "execution_count": 21,
     "metadata": {},
     "output_type": "execute_result"
    }
   ],
   "source": [
    "get_recommendations(\"The Dark Knight Rises\", sim_mat)"
   ]
  },
  {
   "cell_type": "code",
   "execution_count": 22,
   "metadata": {},
   "outputs": [
    {
     "data": {
      "text/plain": [
       "22798                           Behind Enemy Lines\n",
       "2524     Star Wars: Episode I - The Phantom Menace\n",
       "8690                              Gamera vs. Jiger\n",
       "10166                         Godzilla: Final Wars\n",
       "18104               Prisoners of the Lost Universe\n",
       "22701                             Gamera vs. Viras\n",
       "22815                            Gamera vs. Guiron\n",
       "25196                               Jurassic World\n",
       "28472                             Gamera vs. Zigra\n",
       "19410                           Bells of Innocence\n",
       "Name: title, dtype: object"
      ]
     },
     "execution_count": 22,
     "metadata": {},
     "output_type": "execute_result"
    }
   ],
   "source": [
    "get_recommendations(\"Dune\", sim_mat)"
   ]
  },
  {
   "cell_type": "code",
   "execution_count": 23,
   "metadata": {},
   "outputs": [
    {
     "data": {
      "text/plain": [
       "42477                 Daishizen no Majū: Bagi\n",
       "9645                                  Wizards\n",
       "16446                  The Return of the King\n",
       "37536               The Life of Guskou Budori\n",
       "16524               Cirque du Soleil: Varekai\n",
       "16583                         The Fern Flower\n",
       "24329                   How Wang-Fo Was Saved\n",
       "28872                              The Mascot\n",
       "30169                                 My Love\n",
       "32283    Monster High: Scaris City of Frights\n",
       "Name: title, dtype: object"
      ]
     },
     "execution_count": 23,
     "metadata": {},
     "output_type": "execute_result"
    }
   ],
   "source": [
    "get_recommendations(\"The Lord of the Rings\", sim_mat)"
   ]
  },
  {
   "cell_type": "code",
   "execution_count": 24,
   "metadata": {},
   "outputs": [],
   "source": [
    "from Sameer.services.ml_service.ml_utils import load_pickle_model\n",
    "\n",
    "model = load_pickle_model(\"./pickels/best_svd_model.pkl\")"
   ]
  },
  {
   "cell_type": "code",
   "execution_count": 25,
   "metadata": {},
   "outputs": [],
   "source": [
    "import random"
   ]
  },
  {
   "cell_type": "code",
   "execution_count": 26,
   "metadata": {},
   "outputs": [],
   "source": [
    "import warnings\n",
    "\n",
    "warnings.simplefilter(\"ignore\")"
   ]
  },
  {
   "cell_type": "code",
   "execution_count": 27,
   "metadata": {},
   "outputs": [
    {
     "name": "stdout",
     "output_type": "stream",
     "text": [
      "The predicted hybrid rating for userId=529 for movieId=19805 is: 2.299838779788813\n",
      "The predicted hybrid rating for userId=423 for movieId=29734 is: 2.432745985764326\n",
      "The predicted hybrid rating for userId=647 for movieId=46218 is: 2.781177761472337\n",
      "The predicted hybrid rating for userId=617 for movieId=22516 is: 2.3127807478075875\n",
      "The predicted hybrid rating for userId=294 for movieId=27459 is: 2.6003669556862303\n"
     ]
    }
   ],
   "source": [
    "from Sameer.services.ml_service.ml_utils import hybrid_predicted_rating\n",
    "\n",
    "for i in range(5):\n",
    "    random_movie = random.choice(movies_df.index)\n",
    "    random_user = random.choice(ratings_df[\"userId\"])\n",
    "    predicted_rating = hybrid_predicted_rating(\n",
    "        userId=random_user,\n",
    "        movieId=random_movie,\n",
    "        model=model,\n",
    "        similarity_matrix=sim_mat,\n",
    "        movies_df=movies_df,\n",
    "        weighted_df=weighted_df,\n",
    "    )\n",
    "\n",
    "    print(\n",
    "        f\"The predicted hybrid rating for userId={random_user} for movieId={random_movie} is: {predicted_rating}\"\n",
    "    )"
   ]
  },
  {
   "cell_type": "code",
   "execution_count": 28,
   "metadata": {},
   "outputs": [],
   "source": [
    "import ast\n",
    "\n",
    "movies_df[\"genres\"] = movies_df[\"genres\"].apply(lambda x: ast.literal_eval(x))"
   ]
  },
  {
   "cell_type": "markdown",
   "metadata": {},
   "source": [
    "## Recommending Movies for Old Users\n",
    "\n",
    "In this section, we will generate movie recommendations for users through our Hybrid Movie Recommender System. The system requires a user ID and follows a two-step process:\n",
    "\n",
    "1. Collaborative Filtering: The system predicts movie ratings based on the user's past behavior using collaborative filtering techniques.\n",
    "\n",
    "2. Content-Based Filtering: The system finds movies similar to the user's last watched movie using content-based filtering. It considers attributes such as keywords, genre, cast, and director to quantify the similarity between movies.\n",
    "\n",
    "The Hybrid Movie Recommender System combines the recommendations from both collaborative filtering and content-based filtering. It assigns equal weight to each set of recommendations and generates a final list of the top 10 recommended movies. This hybrid approach aims to provide more accurate and personalized movie suggestions for old users.\n"
   ]
  },
  {
   "cell_type": "code",
   "execution_count": 29,
   "metadata": {},
   "outputs": [],
   "source": [
    "weighted_df.to_csv(\"../data/weighted_df.csv\", index=False)\n",
    "ratings_df.to_csv(\"../data/ratings_df.csv\", index=False)\n",
    "movies_df.to_csv(\"../data/movies_df.csv\", index=False)"
   ]
  },
  {
   "cell_type": "code",
   "execution_count": 30,
   "metadata": {},
   "outputs": [
    {
     "name": "stdout",
     "output_type": "stream",
     "text": [
      "Movie ID 30825.0 not found in movies_df.\n",
      "Recommended movies for user 235: [920.0, 608.0, 296.0, 318.0, 4973.0, 6187.0, 4226.0, 1207.0, 50.0, 2858.0]\n",
      "Recommended Movies:-\n",
      "\tTitle: Dry Cleaning (1997), Genres: drama, Director: annefontaine\n",
      "\tTitle: The Million Dollar Hotel (2000), Genres: drama, thriller, Director: wimwenders\n",
      "\tTitle: Under the Sand (2000), Genres: drama, mystery, Director: françoisozon\n",
      "\tTitle: Men in Black II (2002), Genres: action, adventure, comedy, Director: barrysonnenfeld\n",
      "\tTitle: Terminator 3: Rise of the Machines (2003), Genres: action, thriller, sciencefiction, Director: jonathanmostow\n",
      "\tTitle: Cars (2006), Genres: animation, adventure, comedy, Director: johnlasseter\n",
      "\tTitle: Shriek If You Know What I Did Last Friday the Thirteenth (2000), Genres: comedy, Director: johnblanchard\n"
     ]
    }
   ],
   "source": [
    "def get_weighted_scores(movie_ids, weighted_df):\n",
    "    \"\"\"\n",
    "    Fetches the weighted scores for a list of movie IDs.\n",
    "\n",
    "    Parameters:\n",
    "    - movie_ids (list): A list of movie IDs for which to fetch the weighted scores.\n",
    "    - weighted_df (pandas.DataFrame): The weighted DataFrame containing weighted scores.\n",
    "\n",
    "    Returns:\n",
    "    - weighted_scores (dict): A dictionary mapping movie IDs to their corresponding weighted scores.\n",
    "    \"\"\"\n",
    "    weighted_df = weighted_df.loc[~weighted_df.index.duplicated(keep=\"first\")]\n",
    "\n",
    "    weighted_scores = {\n",
    "        movie_id: (\n",
    "            weighted_df.loc[movie_id][\"score\"] if movie_id in weighted_df.index else 0\n",
    "        )\n",
    "        for movie_id in movie_ids\n",
    "    }\n",
    "\n",
    "    return weighted_scores\n",
    "\n",
    "\n",
    "def show_movie_details(movie_ids, movies_df):\n",
    "    \"\"\"\n",
    "    Display the details of recommended movies based on the specified movie IDs.\n",
    "\n",
    "    Args:\n",
    "        movie_ids (list): A list of movie IDs to filter the DataFrame.\n",
    "        movies_df (pandas.DataFrame): The DataFrame containing movie details.\n",
    "\n",
    "    Raises:\n",
    "        ValueError: If the movies_df DataFrame does not include the required columns.\n",
    "\n",
    "    Returns:\n",
    "        None\n",
    "    \"\"\"\n",
    "    required_columns = [\"id\", \"title\", \"year\", \"genres\", \"director\"]\n",
    "    if not all(column in movies_df.columns for column in required_columns):\n",
    "        raise ValueError(\n",
    "            f\"movies_df must include the following columns: {required_columns}\"\n",
    "        )\n",
    "\n",
    "    details_df = movies_df.loc[\n",
    "        movies_df[\"id\"].isin(movie_ids), [\"title\", \"year\", \"genres\", \"director\"]\n",
    "    ]\n",
    "\n",
    "    print(\"Recommended Movies:-\")\n",
    "    for _, row in details_df.iterrows():\n",
    "        genres = (\n",
    "            \", \".join(row[\"genres\"])\n",
    "            if isinstance(row[\"genres\"], list)\n",
    "            else row[\"genres\"]\n",
    "        )\n",
    "        print(\n",
    "            f\"\\tTitle: {row['title']} ({row['year']}), Genres: {genres}, Director: {row['director']}\"\n",
    "        )\n",
    "\n",
    "\n",
    "def get_user_rating_predictions(user_ratings):\n",
    "    \"\"\"\n",
    "    Get predictions for user ratings.\n",
    "\n",
    "    Args:\n",
    "        user_ratings (pandas.DataFrame): DataFrame containing user ratings with columns \"userId\" and \"movieId\".\n",
    "\n",
    "    Returns:\n",
    "        list: List of tuples containing movieId and corresponding predicted ratings.\n",
    "    \"\"\"\n",
    "    predictions = []\n",
    "    for _, row in user_ratings.iterrows():\n",
    "        pred = model.predict(row[\"userId\"], row[\"movieId\"]).est\n",
    "        predictions.append((row[\"movieId\"], pred))\n",
    "    return predictions\n",
    "\n",
    "\n",
    "def get_top_collab_movies(predictions, n):\n",
    "    \"\"\"\n",
    "    Returns a list of the top n movies based on the predictions.\n",
    "\n",
    "    Parameters:\n",
    "    predictions (list): A list of tuples containing movie names and their corresponding prediction values.\n",
    "    n (int): The number of top movies to return.\n",
    "\n",
    "    Returns:\n",
    "    list: A list of the top n movie names.\n",
    "\n",
    "    \"\"\"\n",
    "    return [x[0] for x in sorted(predictions, key=lambda x: x[1], reverse=True)[:n]]\n",
    "\n",
    "\n",
    "def get_similar_movies(last_watched_movieId, n):\n",
    "    \"\"\"\n",
    "    Get a list of similar movies based on the last watched movie.\n",
    "\n",
    "    Parameters:\n",
    "    last_watched_movieId (int): The ID of the last watched movie.\n",
    "    n (int): The number of similar movies to return.\n",
    "\n",
    "    Returns:\n",
    "    list: A list of movie IDs of similar movies.\n",
    "\n",
    "    \"\"\"\n",
    "    if last_watched_movieId in movies_df[\"id\"].values:\n",
    "        watched_movie_idx = movies_df[movies_df[\"id\"] == last_watched_movieId].index[0]\n",
    "        similar_movies = list(enumerate(sim_mat[watched_movie_idx]))\n",
    "        sorted_similar_movies = sorted(\n",
    "            similar_movies, key=lambda x: x[1], reverse=True\n",
    "        )[1 : n + 1]\n",
    "        return [movies_df.iloc[i[0]][\"id\"] for i in sorted_similar_movies]\n",
    "    else:\n",
    "        print(f\"Movie ID {last_watched_movieId} not found in movies_df.\")\n",
    "        return []\n",
    "\n",
    "\n",
    "def combine_scores(collab_weighted_scores, content_weighted_scores):\n",
    "    \"\"\"\n",
    "    Combines collaborative and content-based weighted scores for movies.\n",
    "\n",
    "    Parameters:\n",
    "    - collab_weighted_scores (dict): A dictionary containing movie IDs as keys and collaborative weighted scores as values.\n",
    "    - content_weighted_scores (dict): A dictionary containing movie IDs as keys and content-based weighted scores as values.\n",
    "\n",
    "    Returns:\n",
    "    - combined_scores (dict): A dictionary containing movie IDs as keys and combined scores as values, where the combined score is calculated as the sum of 0.5 times the collaborative weighted score and 0.5 times the content-based weighted score.\n",
    "    \"\"\"\n",
    "    combined_scores = {}\n",
    "    for movie_id, score in collab_weighted_scores.items():\n",
    "        combined_scores[movie_id] = combined_scores.get(movie_id, 0) + 0.5 * score\n",
    "    for movie_id, score in content_weighted_scores.items():\n",
    "        combined_scores[movie_id] = combined_scores.get(movie_id, 0) + 0.5 * score\n",
    "    return combined_scores\n",
    "\n",
    "\n",
    "def hybrid_recommendation(user_id, n=10):\n",
    "    \"\"\"\n",
    "    Generates hybrid movie recommendations for a given user.\n",
    "\n",
    "    Parameters:\n",
    "        user_id (int): The ID of the user for whom recommendations are generated.\n",
    "        n (int, optional): The number of recommendations to generate. Defaults to 10.\n",
    "\n",
    "    Returns:\n",
    "        list: A list of movie IDs representing the top recommended movies for the user.\n",
    "    \"\"\"\n",
    "    user_ratings = ratings_df[ratings_df[\"userId\"] == user_id]\n",
    "    predictions = get_user_rating_predictions(user_ratings)\n",
    "    top_collab_movies = get_top_collab_movies(predictions, n)\n",
    "    last_watched_movieId = user_ratings.iloc[-1][\"movieId\"]\n",
    "    top_content_movies = get_similar_movies(last_watched_movieId, n)\n",
    "    collab_weighted_scores = get_weighted_scores(top_collab_movies, weighted_df)\n",
    "    content_weighted_scores = get_weighted_scores(top_content_movies, weighted_df)\n",
    "    combined_scores = combine_scores(collab_weighted_scores, content_weighted_scores)\n",
    "    sorted_movies = sorted(\n",
    "        combined_scores.keys(), key=lambda x: combined_scores[x], reverse=True\n",
    "    )\n",
    "    return sorted_movies[:n]\n",
    "\n",
    "\n",
    "user_id = 235\n",
    "recommended_movies = hybrid_recommendation(user_id)\n",
    "print(f\"Recommended movies for user {user_id}: {recommended_movies}\")\n",
    "show_movie_details(recommended_movies, movies_df)"
   ]
  },
  {
   "cell_type": "markdown",
   "metadata": {},
   "source": [
    "## Recommending Movies for New Users\n",
    "\n",
    "In this section, we explore strategies to recommend movies to new users who have no historical data. We use two different approaches to tackle this issue:\n",
    "\n",
    "To address the 'cold start' problem, we recommend top-rated and recent movies to new users. This approach utilizes a DataFrame of movie IDs and their weighted scores to generate a list of top n movies from the last min_year years. The recommendations are sorted by a score that combines both popularity and user ratings. The function is flexible, allowing you to specify the number of recommendations and the time frame for recent movies.\n",
    "\n"
   ]
  },
  {
   "cell_type": "code",
   "execution_count": 31,
   "metadata": {},
   "outputs": [
    {
     "name": "stdout",
     "output_type": "stream",
     "text": [
      "Recommended Movies:-\n",
      "\tTitle: Pirates of the Caribbean: Dead Men Tell No Tales (2017), Genres: adventure, action, fantasy, Director: joachimrønning\n",
      "\tTitle: Deadpool (2016), Genres: action, adventure, comedy, Director: timmiller\n",
      "\tTitle: Guardians of the Galaxy Vol. 2 (2017), Genres: action, adventure, comedy, Director: jamesgunn\n",
      "\tTitle: Captain America: Civil War (2016), Genres: adventure, action, sciencefiction, Director: anthonyrusso\n",
      "\tTitle: Wonder Woman (2017), Genres: action, adventure, fantasy, Director: pattyjenkins\n",
      "\tTitle: Your Name. (2016), Genres: romance, animation, drama, Director: makotoshinkai\n",
      "\tTitle: Logan (2017), Genres: action, drama, sciencefiction, Director: jamesmangold\n",
      "\tTitle: Beauty and the Beast (2017), Genres: family, fantasy, romance, Director: billcondon\n",
      "\tTitle: Baby Driver (2017), Genres: action, crime, Director: edgarwright\n",
      "\tTitle: War for the Planet of the Apes (2017), Genres: drama, sciencefiction, war, Director: mattreeves\n"
     ]
    }
   ],
   "source": [
    "from datetime import datetime\n",
    "\n",
    "\n",
    "def recommend_for_new_user_top_rating_movies(\n",
    "    weighted_df, movies_df, top_n=10, min_year=5\n",
    "):\n",
    "    \"\"\"\n",
    "    Recommend the top n movies for a new user based on weighted rating scores.\n",
    "\n",
    "    Parameters:\n",
    "    df (DataFrame): DataFrame containing movie IDs and their weighted scores.\n",
    "    n (int): Number of top movies to recommend.\n",
    "\n",
    "    Returns:\n",
    "    DataFrame: Top n recommended movies for a new user.\n",
    "    \"\"\"\n",
    "    current_year = datetime.now().year\n",
    "    recent_movies_filter = movies_df[\"year\"].fillna(0).astype(int) >= (\n",
    "        current_year - min_year\n",
    "    )\n",
    "    recent_movies_df = movies_df[recent_movies_filter]\n",
    "\n",
    "    merged_df = pd.merge(\n",
    "        weighted_df, recent_movies_df[[\"id\", \"year\"]], on=\"id\", how=\"inner\"\n",
    "    )\n",
    "    top_movies_df = merged_df.sort_values(by=\"score\", ascending=False).head(top_n)\n",
    "\n",
    "    return top_movies_df\n",
    "\n",
    "\n",
    "top_movies = recommend_for_new_user_top_rating_movies(\n",
    "    weighted_df, movies_df[[\"id\", \"year\"]], top_n=10, min_year=8\n",
    ")\n",
    "show_movie_details(top_movies[\"id\"], movies_df)"
   ]
  },
  {
   "cell_type": "markdown",
   "metadata": {},
   "source": [
    "# Another approach for the cold start problem\n",
    "\n",
    "To address the 'cold start' problem for new users, we can recommend top-rated movies in various genres. This approach provides genre-specific lists of top movies from the last `min_year` years. By offering genre-specific recommendations, new users can immediately find movies aligned with their preferences.\n",
    "\n",
    "the unique geners = ['mystery', 'action', 'comedy', 'foreign', 'war', 'tvmovie', 'fantasy', 'adventure', 'thriller', 'history', 'documentary', 'horror', 'sciencefiction', 'western', 'romance', 'family', 'animation', 'crime', 'drama', 'music']"
   ]
  },
  {
   "cell_type": "code",
   "execution_count": 32,
   "metadata": {},
   "outputs": [
    {
     "name": "stdout",
     "output_type": "stream",
     "text": [
      "sciencefiction\n",
      "Recommended Movies:-\n",
      "\tTitle: Guardians of the Galaxy (2014), Genres: action, sciencefiction, adventure, Director: jamesgunn\n",
      "\tTitle: Captain America: Civil War (2016), Genres: adventure, action, sciencefiction, Director: anthonyrusso\n",
      "\tTitle: War for the Planet of the Apes (2017), Genres: drama, sciencefiction, war, Director: mattreeves\n",
      "documentary\n",
      "Recommended Movies:-\n",
      "\tTitle: Citizenfour (2014), Genres: documentary, Director: laurapoitras\n",
      "\tTitle: Going Clear: Scientology and the Prison of Belief (2015), Genres: documentary, Director: alexgibney\n",
      "\tTitle: Amy (2015), Genres: documentary, music, Director: asifkapadia\n",
      "comedy\n",
      "Recommended Movies:-\n",
      "\tTitle: Deadpool (2016), Genres: action, adventure, comedy, Director: timmiller\n",
      "\tTitle: Guardians of the Galaxy Vol. 2 (2017), Genres: action, adventure, comedy, Director: jamesgunn\n",
      "\tTitle: Inside Out (2015), Genres: drama, comedy, animation, Director: petedocter\n"
     ]
    }
   ],
   "source": [
    "from datetime import datetime\n",
    "\n",
    "\n",
    "def recommend_for_new_user_by_genre(\n",
    "    weighted_df,\n",
    "    movies_df,\n",
    "    target_genres,\n",
    "    top_n=10,\n",
    "    recent_years_threshold=5,\n",
    "):\n",
    "    \"\"\"\n",
    "    Recommend the top N movies for a new user based on weighted rating scores within specified genres,\n",
    "    considering movies released within a defined recent year threshold.\n",
    "\n",
    "    Parameters:\n",
    "    weighted_scores_df (DataFrame): DataFrame containing movie IDs and their weighted scores.\n",
    "    movies_details_df (DataFrame): DataFrame containing movie IDs, genres, and release years.\n",
    "    target_genres (list): List of genres to consider for recommendations.\n",
    "    top_n (int): Number of top movies to recommend for each genre.\n",
    "    recent_years_threshold (int): Number of recent years to consider for movie recommendations.\n",
    "\n",
    "    Returns:\n",
    "    dict: Dictionary with genres as keys and DataFrames of top N recommended movies for each genre as values.\n",
    "    \"\"\"\n",
    "    recommendations = {}\n",
    "    current_year = datetime.now().year\n",
    "\n",
    "    movies_details_df = movies_df.copy()\n",
    "    movies_details_df[\"year\"] = movies_details_df[\"year\"].fillna(0).astype(int)\n",
    "\n",
    "    recent_movies_df = movies_details_df[\n",
    "        movies_details_df[\"year\"] >= (current_year - recent_years_threshold)\n",
    "    ]\n",
    "\n",
    "    for genre in target_genres:\n",
    "        genre_filtered_df = recent_movies_df[\n",
    "            recent_movies_df[\"genres\"].apply(\n",
    "                lambda genres: genre in genres if genres else False\n",
    "            )\n",
    "        ]\n",
    "\n",
    "        genre_with_scores_df = pd.merge(\n",
    "            weighted_df, genre_filtered_df[[\"id\", \"year\"]], on=\"id\", how=\"inner\"\n",
    "        )\n",
    "\n",
    "        top_movies_for_genre = genre_with_scores_df.sort_values(\n",
    "            by=\"score\", ascending=False\n",
    "        ).head(top_n)\n",
    "\n",
    "        recommendations[genre] = top_movies_for_genre\n",
    "\n",
    "    return recommendations\n",
    "\n",
    "\n",
    "genres_list = [\"sciencefiction\", \"documentary\", \"comedy\"]\n",
    "\n",
    "top_movies_by_genre = recommend_for_new_user_by_genre(\n",
    "    weighted_df, movies_df, genres_list, top_n=3, recent_years_threshold=10\n",
    ")\n",
    "for genre in genres_list:\n",
    "    print(genre)\n",
    "    show_movie_details(top_movies_by_genre[genre][\"id\"], movies_df)"
   ]
  },
  {
   "cell_type": "code",
   "execution_count": null,
   "metadata": {},
   "outputs": [],
   "source": []
  }
 ],
 "metadata": {
  "kernelspec": {
   "display_name": "movies",
   "language": "python",
   "name": "python3"
  },
  "language_info": {
   "codemirror_mode": {
    "name": "ipython",
    "version": 3
   },
   "file_extension": ".py",
   "mimetype": "text/x-python",
   "name": "python",
   "nbconvert_exporter": "python",
   "pygments_lexer": "ipython3",
   "version": "3.11.4"
  }
 },
 "nbformat": 4,
 "nbformat_minor": 2
}
