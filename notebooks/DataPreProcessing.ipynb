{
 "cells": [
  {
   "cell_type": "markdown",
   "metadata": {},
   "source": [
    "Previous notes from EDA:\n",
    "\n",
    "- To deal with the zeros in [budget, popularity, revenue, runtime, vote_average]:\n",
    "    - It could be one of these ways:\n",
    "        1. Predictive Modeling: Building a model to predict budget or revenue based on other features (e.g., genre, popularity, runtime) could provide more accurate results\n",
    "        2. Binning: Instead of treating budget and revenue as continuous variables, you can categorize them into bins (e.g., low, medium, high).\n",
    "        3. Data Augmentation: Seek out additional data sources to fill in the missing budget and revenue information. \n",
    "\n",
    "- Now for the high-value outliers in [budget, populairty, revenue, vote_count]:\n",
    "    - It could be one of these ways:\n",
    "        1. Winsorization: capping the extreme values at a certain percentile. points above the 95th percentile are set to the value of the 95th percentile.\n",
    "        2. Binning: as explained before...\n",
    "        3. Transformation: Applying transformations to the data can reduce the impact of outliers. Log transformations, square root transformations, or Box-Cox transformations\n",
    "        4. Model-choice: we can use models that are less sensetive to outliers e.g. Tree-based models\n"
   ]
  },
  {
   "cell_type": "code",
   "execution_count": 56,
   "metadata": {},
   "outputs": [],
   "source": [
    "import numpy as np\n",
    "import pandas as pd\n",
    "import matplotlib.pyplot as plt\n",
    "import seaborn as sns"
   ]
  },
  {
   "cell_type": "code",
   "execution_count": 57,
   "metadata": {},
   "outputs": [],
   "source": [
    "movies_df = pd.read_csv(\"../data/movies_after_eda.csv\")\n",
    "ratings_df = pd.read_csv(\"../data/ratings_small.csv\")\n",
    "credits_df = pd.read_csv(\"../data/credits.csv\")"
   ]
  },
  {
   "cell_type": "markdown",
   "metadata": {},
   "source": [
    "## Let's try to create to merged datasets\n",
    "one for (moves+credits) for content-based filtering\n",
    "and the other (movies+ratings) for collabritve-based filtering"
   ]
  },
  {
   "cell_type": "markdown",
   "metadata": {},
   "source": [
    "some of movies_id has weird values like dates instead of numbers and nan's. So, we will be dealing with that"
   ]
  },
  {
   "cell_type": "code",
   "execution_count": 63,
   "metadata": {},
   "outputs": [],
   "source": [
    "movies_df[\"id\"] = movies_df[\"id\"].apply(\n",
    "    lambda x: int(x) if str(x).isnumeric() else np.nan\n",
    ")\n",
    "movies_df[\"id\"].isnull().sum()\n",
    "movies_df = movies_df.dropna(subset=[\"id\"])\n",
    "movies_df[\"id\"] = movies_df[\"id\"].astype(int)"
   ]
  },
  {
   "cell_type": "code",
   "execution_count": 65,
   "metadata": {},
   "outputs": [
    {
     "data": {
      "text/html": [
       "<div>\n",
       "<style scoped>\n",
       "    .dataframe tbody tr th:only-of-type {\n",
       "        vertical-align: middle;\n",
       "    }\n",
       "\n",
       "    .dataframe tbody tr th {\n",
       "        vertical-align: top;\n",
       "    }\n",
       "\n",
       "    .dataframe thead th {\n",
       "        text-align: right;\n",
       "    }\n",
       "</style>\n",
       "<table border=\"1\" class=\"dataframe\">\n",
       "  <thead>\n",
       "    <tr style=\"text-align: right;\">\n",
       "      <th></th>\n",
       "      <th>id</th>\n",
       "      <th>imdb_id</th>\n",
       "      <th>title</th>\n",
       "      <th>budget</th>\n",
       "      <th>original_language</th>\n",
       "      <th>overview</th>\n",
       "      <th>popularity</th>\n",
       "      <th>release_date</th>\n",
       "      <th>revenue</th>\n",
       "      <th>runtime</th>\n",
       "      <th>vote_average</th>\n",
       "      <th>vote_count</th>\n",
       "      <th>genres_list</th>\n",
       "      <th>release_year</th>\n",
       "      <th>production_companies_list</th>\n",
       "      <th>cast</th>\n",
       "      <th>crew</th>\n",
       "    </tr>\n",
       "  </thead>\n",
       "  <tbody>\n",
       "    <tr>\n",
       "      <th>0</th>\n",
       "      <td>862</td>\n",
       "      <td>tt0114709</td>\n",
       "      <td>Toy Story</td>\n",
       "      <td>30000000.0</td>\n",
       "      <td>en</td>\n",
       "      <td>Led by Woody, Andy's toys live happily in his ...</td>\n",
       "      <td>21.946943</td>\n",
       "      <td>1995-10-30</td>\n",
       "      <td>373554033.0</td>\n",
       "      <td>81.0</td>\n",
       "      <td>7.7</td>\n",
       "      <td>5415.0</td>\n",
       "      <td>['Animation', 'Comedy', 'Family']</td>\n",
       "      <td>1995.0</td>\n",
       "      <td>['Pixar Animation Studios']</td>\n",
       "      <td>[{'cast_id': 14, 'character': 'Woody (voice)',...</td>\n",
       "      <td>[{'credit_id': '52fe4284c3a36847f8024f49', 'de...</td>\n",
       "    </tr>\n",
       "    <tr>\n",
       "      <th>1</th>\n",
       "      <td>8844</td>\n",
       "      <td>tt0113497</td>\n",
       "      <td>Jumanji</td>\n",
       "      <td>65000000.0</td>\n",
       "      <td>en</td>\n",
       "      <td>When siblings Judy and Peter discover an encha...</td>\n",
       "      <td>17.015539</td>\n",
       "      <td>1995-12-15</td>\n",
       "      <td>262797249.0</td>\n",
       "      <td>104.0</td>\n",
       "      <td>6.9</td>\n",
       "      <td>2413.0</td>\n",
       "      <td>['Adventure', 'Fantasy', 'Family']</td>\n",
       "      <td>1995.0</td>\n",
       "      <td>['TriStar Pictures', 'Teitler Film', 'Intersco...</td>\n",
       "      <td>[{'cast_id': 1, 'character': 'Alan Parrish', '...</td>\n",
       "      <td>[{'credit_id': '52fe44bfc3a36847f80a7cd1', 'de...</td>\n",
       "    </tr>\n",
       "  </tbody>\n",
       "</table>\n",
       "</div>"
      ],
      "text/plain": [
       "     id    imdb_id      title      budget original_language  \\\n",
       "0   862  tt0114709  Toy Story  30000000.0                en   \n",
       "1  8844  tt0113497    Jumanji  65000000.0                en   \n",
       "\n",
       "                                            overview  popularity release_date  \\\n",
       "0  Led by Woody, Andy's toys live happily in his ...   21.946943   1995-10-30   \n",
       "1  When siblings Judy and Peter discover an encha...   17.015539   1995-12-15   \n",
       "\n",
       "       revenue  runtime  vote_average  vote_count  \\\n",
       "0  373554033.0     81.0           7.7      5415.0   \n",
       "1  262797249.0    104.0           6.9      2413.0   \n",
       "\n",
       "                          genres_list  release_year  \\\n",
       "0   ['Animation', 'Comedy', 'Family']        1995.0   \n",
       "1  ['Adventure', 'Fantasy', 'Family']        1995.0   \n",
       "\n",
       "                           production_companies_list  \\\n",
       "0                        ['Pixar Animation Studios']   \n",
       "1  ['TriStar Pictures', 'Teitler Film', 'Intersco...   \n",
       "\n",
       "                                                cast  \\\n",
       "0  [{'cast_id': 14, 'character': 'Woody (voice)',...   \n",
       "1  [{'cast_id': 1, 'character': 'Alan Parrish', '...   \n",
       "\n",
       "                                                crew  \n",
       "0  [{'credit_id': '52fe4284c3a36847f8024f49', 'de...  \n",
       "1  [{'credit_id': '52fe44bfc3a36847f80a7cd1', 'de...  "
      ]
     },
     "execution_count": 65,
     "metadata": {},
     "output_type": "execute_result"
    }
   ],
   "source": [
    "movies_credits_df = pd.merge(movies_df, credits_df, on=\"id\")\n",
    "movies_credits_df.head(2)"
   ]
  },
  {
   "cell_type": "code",
   "execution_count": 66,
   "metadata": {},
   "outputs": [
    {
     "data": {
      "text/html": [
       "<div>\n",
       "<style scoped>\n",
       "    .dataframe tbody tr th:only-of-type {\n",
       "        vertical-align: middle;\n",
       "    }\n",
       "\n",
       "    .dataframe tbody tr th {\n",
       "        vertical-align: top;\n",
       "    }\n",
       "\n",
       "    .dataframe thead th {\n",
       "        text-align: right;\n",
       "    }\n",
       "</style>\n",
       "<table border=\"1\" class=\"dataframe\">\n",
       "  <thead>\n",
       "    <tr style=\"text-align: right;\">\n",
       "      <th></th>\n",
       "      <th>id</th>\n",
       "      <th>imdb_id</th>\n",
       "      <th>title</th>\n",
       "      <th>budget</th>\n",
       "      <th>original_language</th>\n",
       "      <th>overview</th>\n",
       "      <th>popularity</th>\n",
       "      <th>release_date</th>\n",
       "      <th>revenue</th>\n",
       "      <th>runtime</th>\n",
       "      <th>vote_average</th>\n",
       "      <th>vote_count</th>\n",
       "      <th>genres_list</th>\n",
       "      <th>release_year</th>\n",
       "      <th>production_companies_list</th>\n",
       "      <th>cast</th>\n",
       "      <th>crew</th>\n",
       "    </tr>\n",
       "  </thead>\n",
       "  <tbody>\n",
       "    <tr>\n",
       "      <th>45536</th>\n",
       "      <td>227506</td>\n",
       "      <td>tt0008536</td>\n",
       "      <td>Satan Triumphant</td>\n",
       "      <td>0.0</td>\n",
       "      <td>en</td>\n",
       "      <td>In a small town live two brothers, one a minis...</td>\n",
       "      <td>0.003503</td>\n",
       "      <td>1917-10-21</td>\n",
       "      <td>0.0</td>\n",
       "      <td>87.0</td>\n",
       "      <td>0.0</td>\n",
       "      <td>0.0</td>\n",
       "      <td>[]</td>\n",
       "      <td>1917.0</td>\n",
       "      <td>['Yermoliev']</td>\n",
       "      <td>[{'cast_id': 2, 'character': '', 'credit_id': ...</td>\n",
       "      <td>[{'credit_id': '533bccebc3a36844cf0011a7', 'de...</td>\n",
       "    </tr>\n",
       "    <tr>\n",
       "      <th>45537</th>\n",
       "      <td>461257</td>\n",
       "      <td>tt6980792</td>\n",
       "      <td>Queerama</td>\n",
       "      <td>0.0</td>\n",
       "      <td>en</td>\n",
       "      <td>50 years after decriminalisation of homosexual...</td>\n",
       "      <td>0.163015</td>\n",
       "      <td>2017-06-09</td>\n",
       "      <td>0.0</td>\n",
       "      <td>75.0</td>\n",
       "      <td>0.0</td>\n",
       "      <td>0.0</td>\n",
       "      <td>[]</td>\n",
       "      <td>2017.0</td>\n",
       "      <td>[]</td>\n",
       "      <td>[]</td>\n",
       "      <td>[{'credit_id': '593e676c92514105b702e68e', 'de...</td>\n",
       "    </tr>\n",
       "  </tbody>\n",
       "</table>\n",
       "</div>"
      ],
      "text/plain": [
       "           id    imdb_id             title  budget original_language  \\\n",
       "45536  227506  tt0008536  Satan Triumphant     0.0                en   \n",
       "45537  461257  tt6980792          Queerama     0.0                en   \n",
       "\n",
       "                                                overview  popularity  \\\n",
       "45536  In a small town live two brothers, one a minis...    0.003503   \n",
       "45537  50 years after decriminalisation of homosexual...    0.163015   \n",
       "\n",
       "      release_date  revenue  runtime  vote_average  vote_count genres_list  \\\n",
       "45536   1917-10-21      0.0     87.0           0.0         0.0          []   \n",
       "45537   2017-06-09      0.0     75.0           0.0         0.0          []   \n",
       "\n",
       "       release_year production_companies_list  \\\n",
       "45536        1917.0             ['Yermoliev']   \n",
       "45537        2017.0                        []   \n",
       "\n",
       "                                                    cast  \\\n",
       "45536  [{'cast_id': 2, 'character': '', 'credit_id': ...   \n",
       "45537                                                 []   \n",
       "\n",
       "                                                    crew  \n",
       "45536  [{'credit_id': '533bccebc3a36844cf0011a7', 'de...  \n",
       "45537  [{'credit_id': '593e676c92514105b702e68e', 'de...  "
      ]
     },
     "execution_count": 66,
     "metadata": {},
     "output_type": "execute_result"
    }
   ],
   "source": [
    "movies_credits_df.tail(2)"
   ]
  },
  {
   "cell_type": "code",
   "execution_count": 62,
   "metadata": {},
   "outputs": [
    {
     "data": {
      "text/plain": [
       "id                             0\n",
       "imdb_id                       17\n",
       "title                          3\n",
       "budget                         0\n",
       "original_language             11\n",
       "overview                     954\n",
       "popularity                     3\n",
       "release_date                  87\n",
       "revenue                        3\n",
       "runtime                      260\n",
       "vote_average                   3\n",
       "vote_count                     3\n",
       "genres_list                    0\n",
       "release_year                  87\n",
       "production_companies_list      0\n",
       "cast                           0\n",
       "crew                           0\n",
       "dtype: int64"
      ]
     },
     "execution_count": 62,
     "metadata": {},
     "output_type": "execute_result"
    }
   ],
   "source": [
    "movies_credits_df.isnull().sum()"
   ]
  },
  {
   "cell_type": "markdown",
   "metadata": {},
   "source": [
    "the null values seem to hurt the dataset as its mostly on not so important columns\n",
    "so, we will deal with with simple imputations ways"
   ]
  },
  {
   "cell_type": "code",
   "execution_count": 69,
   "metadata": {},
   "outputs": [],
   "source": [
    "# dealing with null values by mean imputation for numerical columns and mode imputation for categorical columns\n",
    "movies_credits_df[\"runtime\"] = movies_credits_df[\"runtime\"].fillna(\n",
    "    movies_credits_df[\"runtime\"].mean()\n",
    ")\n",
    "movies_credits_df[\"vote_average\"] = movies_credits_df[\"vote_average\"].fillna(\n",
    "    movies_credits_df[\"vote_average\"].mean()\n",
    ")\n",
    "movies_credits_df[\"vote_count\"] = movies_credits_df[\"vote_count\"].fillna(\n",
    "    movies_credits_df[\"vote_count\"].mean()\n",
    ")\n",
    "movies_credits_df[\"release_date\"] = movies_credits_df[\"release_date\"].fillna(\n",
    "    movies_credits_df[\"release_date\"].mode()[0]\n",
    ")\n",
    "movies_credits_df[\"release_year\"] = movies_credits_df[\"release_year\"].fillna(\n",
    "    movies_credits_df[\"release_year\"].mode()[0]\n",
    ")\n",
    "movies_credits_df[\"original_language\"] = movies_credits_df[\"original_language\"].fillna(\n",
    "    movies_credits_df[\"original_language\"].mode()[0]\n",
    ")\n",
    "movies_credits_df[\"revenue\"] = movies_credits_df[\"revenue\"].fillna(\n",
    "    movies_credits_df[\"revenue\"].mean()\n",
    ")\n",
    "movies_credits_df[\"imdb_id\"] = movies_credits_df[\"imdb_id\"].fillna(\n",
    "    \"No imdb_id available\"\n",
    ")\n",
    "movies_credits_df[\"title\"] = movies_credits_df[\"title\"].fillna(\"No title available\")\n",
    "movies_credits_df[\"popularity\"] = movies_credits_df[\"popularity\"].fillna(\n",
    "    movies_credits_df[\"popularity\"].mean()\n",
    ")"
   ]
  },
  {
   "cell_type": "code",
   "execution_count": 70,
   "metadata": {},
   "outputs": [
    {
     "data": {
      "text/plain": [
       "id                           0\n",
       "imdb_id                      0\n",
       "title                        0\n",
       "budget                       0\n",
       "original_language            0\n",
       "overview                     0\n",
       "popularity                   0\n",
       "release_date                 0\n",
       "revenue                      0\n",
       "runtime                      0\n",
       "vote_average                 0\n",
       "vote_count                   0\n",
       "genres_list                  0\n",
       "release_year                 0\n",
       "production_companies_list    0\n",
       "cast                         0\n",
       "crew                         0\n",
       "dtype: int64"
      ]
     },
     "execution_count": 70,
     "metadata": {},
     "output_type": "execute_result"
    }
   ],
   "source": [
    "movies_credits_df.isnull().sum()"
   ]
  },
  {
   "cell_type": "code",
   "execution_count": null,
   "metadata": {},
   "outputs": [],
   "source": []
  }
 ],
 "metadata": {
  "kernelspec": {
   "display_name": "movies",
   "language": "python",
   "name": "python3"
  },
  "language_info": {
   "codemirror_mode": {
    "name": "ipython",
    "version": 3
   },
   "file_extension": ".py",
   "mimetype": "text/x-python",
   "name": "python",
   "nbconvert_exporter": "python",
   "pygments_lexer": "ipython3",
   "version": "3.11.4"
  }
 },
 "nbformat": 4,
 "nbformat_minor": 2
}
