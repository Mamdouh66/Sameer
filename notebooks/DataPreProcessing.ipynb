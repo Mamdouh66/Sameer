{
 "cells": [
  {
   "cell_type": "markdown",
   "metadata": {},
   "source": [
    "Previous notes from EDA:\n",
    "\n",
    "- To deal with the zeros in [budget, popularity, revenue, runtime, vote_average]:\n",
    "    - It could be one of these ways:\n",
    "        1. Predictive Modeling: Building a model to predict budget or revenue based on other features (e.g., genre, popularity, runtime) could provide more accurate results\n",
    "        2. Binning: Instead of treating budget and revenue as continuous variables, you can categorize them into bins (e.g., low, medium, high).\n",
    "        3. Data Augmentation: Seek out additional data sources to fill in the missing budget and revenue information. \n",
    "\n",
    "- Now for the high-value outliers in [budget, populairty, revenue, vote_count]:\n",
    "    - It could be one of these ways:\n",
    "        1. Winsorization: capping the extreme values at a certain percentile. points above the 95th percentile are set to the value of the 95th percentile.\n",
    "        2. Binning: as explained before...\n",
    "        3. Transformation: Applying transformations to the data can reduce the impact of outliers. Log transformations, square root transformations, or Box-Cox transformations\n",
    "        4. Model-choice: we can use models that are less sensetive to outliers e.g. Tree-based models\n"
   ]
  },
  {
   "cell_type": "code",
   "execution_count": null,
   "metadata": {},
   "outputs": [],
   "source": []
  }
 ],
 "metadata": {
  "language_info": {
   "name": "python"
  }
 },
 "nbformat": 4,
 "nbformat_minor": 2
}
